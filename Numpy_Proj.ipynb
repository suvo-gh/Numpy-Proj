{
  "nbformat": 4,
  "nbformat_minor": 0,
  "metadata": {
    "colab": {
      "name": "Numpy Proj.ipynb",
      "provenance": [],
      "collapsed_sections": []
    },
    "kernelspec": {
      "name": "python3",
      "display_name": "Python 3"
    },
    "language_info": {
      "name": "python"
    }
  },
  "cells": [
    {
      "cell_type": "markdown",
      "metadata": {
        "id": "7ELslGZFfS02"
      },
      "source": [
        "**Project :**\n",
        "Let us build a complete project using NumPy (without any help).\n",
        "\n",
        "Path: project_data = 'KAG_Conversion_Data.csv'\n",
        "\n",
        "**Features:**\n",
        "ad_id: unique ID for each ad\n",
        "xyzcampaignid: an ID associated with each ad campaign of XYZ company\n",
        "fbcampaignid: an ID associated with how Facebook tracks each campaign\n",
        "age: age of the person to whom the ad is shown\n",
        "gender: gender of the person to whom the add is shown\n",
        "interest: a code specifying the category to which the person’s interest belongs (interests are as mentioned in the person’s Facebook public profile)\n",
        "Impressions: the number of times the ad was shown\n",
        "Clicks: number of clicks on for that ad\n",
        "Spent: Amount paid by company xyz to Facebook, to show that ad\n",
        "Total conversion: Total number of people who enquired about the product after seeing the ad\n",
        "Approved conversion: Total number of people who bought the product after seeing the ad\n",
        "\n",
        "**Instructions:**\n",
        "\n",
        "-Load the data. Data is already given to you in variable path\n",
        "\n",
        "-How many unique ad campaigns (xyzcampaignid) does this data contain ? And for how many times was each campaign run ?\n",
        "\n",
        "-What are the age groups that were targeted through these ad campaigns?\n",
        "\n",
        "-What was the average, minimum and maximum amount spent on the ads?\n",
        "\n",
        "-What is the id of the ad having the maximum number of clicks ?\n",
        "\n",
        "-How many people bought the product after seeing the ad with most clicks? Is that the maximum number of purchases in this dataset?\n",
        "\n",
        "-So the ad with the most clicks didn't fetch the maximum number of purchases. Find the details of the product having maximum number of purchases"
      ]
    },
    {
      "cell_type": "code",
      "metadata": {
        "colab": {
          "base_uri": "https://localhost:8080/"
        },
        "id": "5UEVb_szY7Nr",
        "outputId": "0326669e-3216-4eda-feee-fe6240766030"
      },
      "source": [
        "#1\n",
        "import numpy as np\n",
        "file_path=\"/content/drive/MyDrive/KAG_Conversion_Data.csv\"\n",
        "data=np.genfromtxt(file_path, delimiter=\",\", encoding=None, skip_header=1, dtype=str)\n",
        "datae=np.genfromtxt(file_path, delimiter=\",\",dtype='int')\n",
        "print(\"DATA: \\n\",data)\n",
        "#data.shape"
      ],
      "execution_count": null,
      "outputs": [
        {
          "output_type": "stream",
          "text": [
            "DATA: \n",
            " [['708746' '916' '103916' ... '1.429999948' '2' '1']\n",
            " ['708749' '916' '103917' ... '1.820000023' '2' '0']\n",
            " ['708771' '916' '103920' ... '0' '1' '0']\n",
            " ...\n",
            " ['1314412' '1178' '179979' ... '40.28999949' '2' '0']\n",
            " ['1314414' '1178' '179981' ... '198.7100005' '8' '2']\n",
            " ['1314415' '1178' '179982' ... '165.6099987' '5' '2']]\n"
          ],
          "name": "stdout"
        }
      ]
    },
    {
      "cell_type": "code",
      "metadata": {
        "colab": {
          "base_uri": "https://localhost:8080/"
        },
        "id": "-Kkk_XB9Z14r",
        "outputId": "c298afea-7eb0-49b9-93ca-4e29dd22ee9f"
      },
      "source": [
        "#2xyz_len=len(list(data[:,1]))\n",
        "#print(xyz_len)\n",
        "xyzcamp=data[:,1]\n",
        "uniq_xyz=np.unique(xyzcamp)\n",
        "print(\"No. of unique ads:\",len(uniq_xyz))\n",
        "print()\n",
        "print(\"Ad runs per unique ads:\")\n",
        "print(\"ID    Amount of time run\")\n",
        "sum=0\n",
        "impression = data[:,6]\n",
        "for x in uniq_xyz:\n",
        "  for y in xyzcamp:\n",
        "    #index_find=list(xyzcamp).index(y)\n",
        "    #if xyzcamp[index_find] == x:\n",
        "     if x==y: \n",
        "      sum=sum+1\n",
        "  print(\"{}  {}\".format(x,sum))\n",
        "print()"
      ],
      "execution_count": null,
      "outputs": [
        {
          "output_type": "stream",
          "text": [
            "No. of unique ads: 3\n",
            "\n",
            "Ad runs per unique ads:\n",
            "ID    Amount of time run\n",
            "1178  625\n",
            "916  679\n",
            "936  1143\n",
            "\n"
          ],
          "name": "stdout"
        }
      ]
    },
    {
      "cell_type": "code",
      "metadata": {
        "colab": {
          "base_uri": "https://localhost:8080/"
        },
        "id": "omvweYqgdekY",
        "outputId": "cf199914-cb34-48d4-be82-2cf140c7b877"
      },
      "source": [
        "#3\n",
        "age = data[:,3]\n",
        "#print(age)\n",
        "print(\"Age groups targeted:\",np.unique(age))"
      ],
      "execution_count": null,
      "outputs": [
        {
          "output_type": "stream",
          "text": [
            "Age groups targeted: ['30-34' '35-39' '40-44' '45-49']\n"
          ],
          "name": "stdout"
        }
      ]
    },
    {
      "cell_type": "markdown",
      "metadata": {
        "id": "5EQJN34hBkq_"
      },
      "source": [
        ""
      ]
    },
    {
      "cell_type": "code",
      "metadata": {
        "colab": {
          "base_uri": "https://localhost:8080/"
        },
        "id": "qRiH0eXmeDiy",
        "outputId": "4e3f99c9-7028-4802-faa6-40fb20f80180"
      },
      "source": [
        "#4\n",
        "spent=(data[:,8])\n",
        "maxs=float(max(spent))\n",
        "print(\"Max amount spent: \",maxs)\n",
        "mins=float(min(spent))\n",
        "print(\"Min amount spent: \",mins)\n",
        "sum=0\n",
        "for x in spent:\n",
        "  sum+=float(x)\n",
        "avgs=sum/len(spent)\n",
        "print(\"Average amount spent: \",avgs)\n"
      ],
      "execution_count": null,
      "outputs": [
        {
          "output_type": "stream",
          "text": [
            "Max amount spent:  99.52000237\n",
            "Min amount spent:  0.0\n",
            "Average amount spent:  51.36065613141293\n"
          ],
          "name": "stdout"
        }
      ]
    },
    {
      "cell_type": "code",
      "metadata": {
        "colab": {
          "base_uri": "https://localhost:8080/"
        },
        "id": "_YRFSKL1feET",
        "outputId": "0774fcdc-bccb-43cb-cc1a-2d9ab016fee9"
      },
      "source": [
        "#5\n",
        "clicks=datae[:,7]\n",
        "adid=datae[:,0]\n",
        "mclick=max(clicks)\n",
        "imclick=list(clicks).index(mclick)\n",
        "print(max(clicks))\n",
        "#print(iclick)\n",
        "print(\"ID having max amount of click: \",adid[imclick])"
      ],
      "execution_count": null,
      "outputs": [
        {
          "output_type": "stream",
          "text": [
            "421\n",
            "ID having max amount of click:  1121814\n"
          ],
          "name": "stdout"
        }
      ]
    },
    {
      "cell_type": "code",
      "metadata": {
        "colab": {
          "base_uri": "https://localhost:8080/"
        },
        "id": "E7eFPCrAgemb",
        "outputId": "ac3d7903-f534-4f8f-85c1-f1043b7cb00b"
      },
      "source": [
        "#6\n",
        "aconv=datae[:,10]\n",
        "print(\"No. of People bought the product: \",aconv[iclick])\n",
        "maconv=max(aconv)\n",
        "if maconv==aconv[iclick]:\n",
        "  print(\"Yes, it is maximum purchase in the dataset\")\n",
        "else:\n",
        "  print(\"No, it is not maximum purchase in the dataset\")\n"
      ],
      "execution_count": null,
      "outputs": [
        {
          "output_type": "stream",
          "text": [
            "No. of People bought the product:  3\n",
            "No, it is not maximum purchase in the dataset\n"
          ],
          "name": "stdout"
        }
      ]
    },
    {
      "cell_type": "code",
      "metadata": {
        "colab": {
          "base_uri": "https://localhost:8080/"
        },
        "id": "OYmASeDthYPl",
        "outputId": "a84ce11d-e9c8-4e74-d027-e79b1143883b"
      },
      "source": [
        "#7\n",
        "imaconv=list(aconv).index(maconv)\n",
        "print(\"Details of product having max purchases: \",data[imaconv])"
      ],
      "execution_count": null,
      "outputs": [
        {
          "output_type": "stream",
          "text": [
            "Details of product having max purchases:  ['1121105' '1178' '144533' '30-34' 'M' '16' '145999' '9' '16.5200001' '5'\n",
            " '2']\n"
          ],
          "name": "stdout"
        }
      ]
    }
  ]
}